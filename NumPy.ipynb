{
  "nbformat": 4,
  "nbformat_minor": 0,
  "metadata": {
    "colab": {
      "provenance": [],
      "authorship_tag": "ABX9TyNwaiepD1zTx0RVlVcvE/zm",
      "include_colab_link": true
    },
    "kernelspec": {
      "name": "python3",
      "display_name": "Python 3"
    },
    "language_info": {
      "name": "python"
    }
  },
  "cells": [
    {
      "cell_type": "markdown",
      "metadata": {
        "id": "view-in-github",
        "colab_type": "text"
      },
      "source": [
        "<a href=\"https://colab.research.google.com/github/Harshitt-10/Colab/blob/main/NumPy.ipynb\" target=\"_parent\"><img src=\"https://colab.research.google.com/assets/colab-badge.svg\" alt=\"Open In Colab\"/></a>"
      ]
    },
    {
      "cell_type": "code",
      "execution_count": 1,
      "metadata": {
        "colab": {
          "base_uri": "https://localhost:8080/"
        },
        "id": "OQ-5f36JHf3v",
        "outputId": "3f025c05-1e4c-480c-efc0-94a31c115251"
      },
      "outputs": [
        {
          "output_type": "stream",
          "name": "stdout",
          "text": [
            "Requirement already satisfied: numpy in /usr/local/lib/python3.11/dist-packages (2.0.2)\n"
          ]
        }
      ],
      "source": [
        "!pip install numpy"
      ]
    },
    {
      "cell_type": "code",
      "source": [
        "import numpy as np"
      ],
      "metadata": {
        "id": "wKxkRE6dHkIA"
      },
      "execution_count": 2,
      "outputs": []
    },
    {
      "cell_type": "markdown",
      "source": [
        "# **Create**"
      ],
      "metadata": {
        "id": "90n0PmSxHrQ6"
      }
    },
    {
      "cell_type": "code",
      "source": [
        "data = np.random.rand(2,3,4)\n",
        "zeroes = np.zeros((2,2,2))\n",
        "full = np.full((2,2,2),7)\n",
        "ones = np.ones((2,2,2))"
      ],
      "metadata": {
        "id": "wmN7XoHLHpJo"
      },
      "execution_count": 3,
      "outputs": []
    },
    {
      "cell_type": "code",
      "source": [
        "data"
      ],
      "metadata": {
        "colab": {
          "base_uri": "https://localhost:8080/"
        },
        "id": "hjRxWV-fH4he",
        "outputId": "1615d218-a49b-4962-c7af-fb27162a6c99"
      },
      "execution_count": 4,
      "outputs": [
        {
          "output_type": "execute_result",
          "data": {
            "text/plain": [
              "array([[[0.79234214, 0.56547962, 0.43442836, 0.16609289],\n",
              "        [0.24267138, 0.90601575, 0.69427242, 0.07424053],\n",
              "        [0.25298004, 0.18236096, 0.02215848, 0.09200437]],\n",
              "\n",
              "       [[0.44650235, 0.31028214, 0.90507011, 0.87780979],\n",
              "        [0.50398618, 0.7475146 , 0.55557738, 0.00242337],\n",
              "        [0.67571838, 0.87263699, 0.96626689, 0.98211075]]])"
            ]
          },
          "metadata": {},
          "execution_count": 4
        }
      ]
    },
    {
      "cell_type": "code",
      "source": [
        "zeroes"
      ],
      "metadata": {
        "colab": {
          "base_uri": "https://localhost:8080/"
        },
        "id": "LwYHx1n9H6Nt",
        "outputId": "568a494a-2b2c-4841-e4fb-69a6c67361b1"
      },
      "execution_count": 5,
      "outputs": [
        {
          "output_type": "execute_result",
          "data": {
            "text/plain": [
              "array([[[0., 0.],\n",
              "        [0., 0.]],\n",
              "\n",
              "       [[0., 0.],\n",
              "        [0., 0.]]])"
            ]
          },
          "metadata": {},
          "execution_count": 5
        }
      ]
    },
    {
      "cell_type": "code",
      "source": [
        "full"
      ],
      "metadata": {
        "colab": {
          "base_uri": "https://localhost:8080/"
        },
        "id": "7wiAOvLlH6-q",
        "outputId": "7926f90d-ad50-4828-aa96-34ac8f7d5bf3"
      },
      "execution_count": 6,
      "outputs": [
        {
          "output_type": "execute_result",
          "data": {
            "text/plain": [
              "array([[[7, 7],\n",
              "        [7, 7]],\n",
              "\n",
              "       [[7, 7],\n",
              "        [7, 7]]])"
            ]
          },
          "metadata": {},
          "execution_count": 6
        }
      ]
    },
    {
      "cell_type": "code",
      "source": [
        "ones"
      ],
      "metadata": {
        "colab": {
          "base_uri": "https://localhost:8080/"
        },
        "id": "8qr31rIVH76Y",
        "outputId": "f0787e67-bc1d-41a9-f8c6-45cb36513ce9"
      },
      "execution_count": 7,
      "outputs": [
        {
          "output_type": "execute_result",
          "data": {
            "text/plain": [
              "array([[[1., 1.],\n",
              "        [1., 1.]],\n",
              "\n",
              "       [[1., 1.],\n",
              "        [1., 1.]]])"
            ]
          },
          "metadata": {},
          "execution_count": 7
        }
      ]
    },
    {
      "cell_type": "code",
      "source": [
        "arr = np.array([[1,2,3,4],[5,6,7,8]])"
      ],
      "metadata": {
        "id": "Bq6vsWIvH9EU"
      },
      "execution_count": 8,
      "outputs": []
    },
    {
      "cell_type": "code",
      "source": [
        "arr"
      ],
      "metadata": {
        "colab": {
          "base_uri": "https://localhost:8080/"
        },
        "id": "_-GLFjpBIAy_",
        "outputId": "6779c92c-01cc-4ee0-c469-62425bb2a1d0"
      },
      "execution_count": 9,
      "outputs": [
        {
          "output_type": "execute_result",
          "data": {
            "text/plain": [
              "array([[1, 2, 3, 4],\n",
              "       [5, 6, 7, 8]])"
            ]
          },
          "metadata": {},
          "execution_count": 9
        }
      ]
    },
    {
      "cell_type": "code",
      "source": [
        "type(arr)"
      ],
      "metadata": {
        "colab": {
          "base_uri": "https://localhost:8080/"
        },
        "id": "YUmC55jrIBdP",
        "outputId": "c8aa8dfc-6bf6-464d-a0c2-49a1382f3755"
      },
      "execution_count": 10,
      "outputs": [
        {
          "output_type": "execute_result",
          "data": {
            "text/plain": [
              "numpy.ndarray"
            ]
          },
          "metadata": {},
          "execution_count": 10
        }
      ]
    },
    {
      "cell_type": "markdown",
      "source": [
        "## **Read**"
      ],
      "metadata": {
        "id": "2Xx6wK-TIdkN"
      }
    },
    {
      "cell_type": "code",
      "source": [
        "#Attributes\n",
        "shape = arr.shape\n",
        "size = arr.size\n",
        "types = arr.dtype"
      ],
      "metadata": {
        "id": "62OljvJlICXl"
      },
      "execution_count": 11,
      "outputs": []
    },
    {
      "cell_type": "code",
      "source": [
        "shape"
      ],
      "metadata": {
        "colab": {
          "base_uri": "https://localhost:8080/"
        },
        "id": "38dGjZ3DIH85",
        "outputId": "d420799c-bf92-4de9-91b6-134cd4f64b6e"
      },
      "execution_count": 12,
      "outputs": [
        {
          "output_type": "execute_result",
          "data": {
            "text/plain": [
              "(2, 4)"
            ]
          },
          "metadata": {},
          "execution_count": 12
        }
      ]
    },
    {
      "cell_type": "code",
      "source": [
        "size"
      ],
      "metadata": {
        "colab": {
          "base_uri": "https://localhost:8080/"
        },
        "id": "C5Bp6pLLIKNE",
        "outputId": "ccd53122-5539-498a-e4af-833058350627"
      },
      "execution_count": 13,
      "outputs": [
        {
          "output_type": "execute_result",
          "data": {
            "text/plain": [
              "8"
            ]
          },
          "metadata": {},
          "execution_count": 13
        }
      ]
    },
    {
      "cell_type": "code",
      "source": [
        "types"
      ],
      "metadata": {
        "colab": {
          "base_uri": "https://localhost:8080/"
        },
        "id": "gxXS29ujIMPX",
        "outputId": "49e89992-0023-4a38-d148-491c265fb179"
      },
      "execution_count": 14,
      "outputs": [
        {
          "output_type": "execute_result",
          "data": {
            "text/plain": [
              "dtype('int64')"
            ]
          },
          "metadata": {},
          "execution_count": 14
        }
      ]
    },
    {
      "cell_type": "code",
      "source": [
        "#Slicing\n",
        "arr1 = data[0]\n",
        "slicer = data[0][0:2]\n",
        "reverse = data[-1]\n",
        "singleval = data[0][0][0]"
      ],
      "metadata": {
        "id": "AoDh4WzaINJM"
      },
      "execution_count": 21,
      "outputs": []
    },
    {
      "cell_type": "code",
      "source": [
        "data"
      ],
      "metadata": {
        "colab": {
          "base_uri": "https://localhost:8080/"
        },
        "id": "13wgX7WqJL7i",
        "outputId": "a7c11833-8bb0-4004-b003-d056134f41f4"
      },
      "execution_count": 16,
      "outputs": [
        {
          "output_type": "execute_result",
          "data": {
            "text/plain": [
              "array([[[0.79234214, 0.56547962, 0.43442836, 0.16609289],\n",
              "        [0.24267138, 0.90601575, 0.69427242, 0.07424053],\n",
              "        [0.25298004, 0.18236096, 0.02215848, 0.09200437]],\n",
              "\n",
              "       [[0.44650235, 0.31028214, 0.90507011, 0.87780979],\n",
              "        [0.50398618, 0.7475146 , 0.55557738, 0.00242337],\n",
              "        [0.67571838, 0.87263699, 0.96626689, 0.98211075]]])"
            ]
          },
          "metadata": {},
          "execution_count": 16
        }
      ]
    },
    {
      "cell_type": "code",
      "source": [
        "arr1"
      ],
      "metadata": {
        "colab": {
          "base_uri": "https://localhost:8080/"
        },
        "id": "BR7Cm4h4IyQ1",
        "outputId": "bba3627c-810d-4a34-cee2-46994c3a1f19"
      },
      "execution_count": 17,
      "outputs": [
        {
          "output_type": "execute_result",
          "data": {
            "text/plain": [
              "array([[0.79234214, 0.56547962, 0.43442836, 0.16609289],\n",
              "       [0.24267138, 0.90601575, 0.69427242, 0.07424053],\n",
              "       [0.25298004, 0.18236096, 0.02215848, 0.09200437]])"
            ]
          },
          "metadata": {},
          "execution_count": 17
        }
      ]
    },
    {
      "cell_type": "code",
      "source": [
        "slicer"
      ],
      "metadata": {
        "colab": {
          "base_uri": "https://localhost:8080/"
        },
        "id": "O2OoupNYJF6T",
        "outputId": "9d66b8dc-3741-48a4-9390-c1e7c3d81e99"
      },
      "execution_count": 22,
      "outputs": [
        {
          "output_type": "execute_result",
          "data": {
            "text/plain": [
              "array([[0.79234214, 0.56547962, 0.43442836, 0.16609289],\n",
              "       [0.24267138, 0.90601575, 0.69427242, 0.07424053]])"
            ]
          },
          "metadata": {},
          "execution_count": 22
        }
      ]
    },
    {
      "cell_type": "code",
      "source": [
        "reverse"
      ],
      "metadata": {
        "colab": {
          "base_uri": "https://localhost:8080/"
        },
        "id": "ivpNewd-JGaY",
        "outputId": "02d7df58-440a-46a6-cdf0-ce4daa446d6c"
      },
      "execution_count": 19,
      "outputs": [
        {
          "output_type": "execute_result",
          "data": {
            "text/plain": [
              "array([[0.44650235, 0.31028214, 0.90507011, 0.87780979],\n",
              "       [0.50398618, 0.7475146 , 0.55557738, 0.00242337],\n",
              "       [0.67571838, 0.87263699, 0.96626689, 0.98211075]])"
            ]
          },
          "metadata": {},
          "execution_count": 19
        }
      ]
    },
    {
      "cell_type": "code",
      "source": [
        "singleval"
      ],
      "metadata": {
        "colab": {
          "base_uri": "https://localhost:8080/"
        },
        "id": "N03nQVoNJHJT",
        "outputId": "e07f1ddf-9910-49a2-a0c3-f53fb27f9d7f"
      },
      "execution_count": 20,
      "outputs": [
        {
          "output_type": "execute_result",
          "data": {
            "text/plain": [
              "np.float64(0.7923421360688121)"
            ]
          },
          "metadata": {},
          "execution_count": 20
        }
      ]
    },
    {
      "cell_type": "markdown",
      "source": [
        "# **Update**"
      ],
      "metadata": {
        "id": "TblXy1VJJ0lZ"
      }
    },
    {
      "cell_type": "code",
      "source": [
        "list1 = np.random.rand(10)\n",
        "list2 = np.random.rand(10)"
      ],
      "metadata": {
        "id": "B8kkJyl3JJGx"
      },
      "execution_count": 23,
      "outputs": []
    },
    {
      "cell_type": "code",
      "source": [
        "list1"
      ],
      "metadata": {
        "colab": {
          "base_uri": "https://localhost:8080/"
        },
        "id": "fyiaPQdTJ_57",
        "outputId": "6e26ba9c-b3de-486f-c00c-ab06faf1e611"
      },
      "execution_count": 24,
      "outputs": [
        {
          "output_type": "execute_result",
          "data": {
            "text/plain": [
              "array([0.67300028, 0.0218367 , 0.85280823, 0.31465148, 0.70981348,\n",
              "       0.11974607, 0.55244156, 0.37720208, 0.79183977, 0.7897843 ])"
            ]
          },
          "metadata": {},
          "execution_count": 24
        }
      ]
    },
    {
      "cell_type": "code",
      "source": [
        "add = np.add(list1, list2)\n",
        "sub = np.subtract(list1, list2)\n",
        "mul = np.multiply(list1, list2)\n",
        "div = np.divide(list1, list2)\n",
        "dot = np.dot(list1, list2)"
      ],
      "metadata": {
        "id": "msx7KmpOKAp4"
      },
      "execution_count": 25,
      "outputs": []
    },
    {
      "cell_type": "code",
      "source": [
        "add"
      ],
      "metadata": {
        "colab": {
          "base_uri": "https://localhost:8080/"
        },
        "id": "NBEkRSCBKEWJ",
        "outputId": "3bf40119-beee-4c20-9fc9-56cc781c6ab9"
      },
      "execution_count": 26,
      "outputs": [
        {
          "output_type": "execute_result",
          "data": {
            "text/plain": [
              "array([1.23390197, 0.21698239, 1.2801634 , 1.30166284, 0.99854764,\n",
              "       0.17465694, 0.97822086, 0.3782301 , 1.28753736, 1.35217539])"
            ]
          },
          "metadata": {},
          "execution_count": 26
        }
      ]
    },
    {
      "cell_type": "code",
      "source": [
        "sub"
      ],
      "metadata": {
        "colab": {
          "base_uri": "https://localhost:8080/"
        },
        "id": "K-wi_Xa0KEyJ",
        "outputId": "99f0d39e-abd6-481d-d157-5daa69ff5346"
      },
      "execution_count": 27,
      "outputs": [
        {
          "output_type": "execute_result",
          "data": {
            "text/plain": [
              "array([ 0.1120986 , -0.17330899,  0.42545306, -0.67235988,  0.42107932,\n",
              "        0.0648352 ,  0.12666226,  0.37617405,  0.29614218,  0.22739321])"
            ]
          },
          "metadata": {},
          "execution_count": 27
        }
      ]
    },
    {
      "cell_type": "code",
      "source": [
        "mul"
      ],
      "metadata": {
        "colab": {
          "base_uri": "https://localhost:8080/"
        },
        "id": "U5ZSf6ufKFKr",
        "outputId": "cf16b925-a3e4-4ebf-efa8-7478b0a28d15"
      },
      "execution_count": 28,
      "outputs": [
        {
          "output_type": "execute_result",
          "data": {
            "text/plain": [
              "array([3.77486995e-01, 4.26133753e-03, 3.64452005e-01, 3.10564584e-01,\n",
              "       2.04947398e-01, 6.57536091e-03, 2.35218180e-01, 3.87774120e-04,\n",
              "       3.92513069e-01, 4.44167656e-01])"
            ]
          },
          "metadata": {},
          "execution_count": 28
        }
      ]
    },
    {
      "cell_type": "code",
      "source": [
        "div"
      ],
      "metadata": {
        "colab": {
          "base_uri": "https://localhost:8080/"
        },
        "id": "_8fAZsUZKF_d",
        "outputId": "6d6b8c6a-e45b-4b1e-fe60-d8864b3513e9"
      },
      "execution_count": 29,
      "outputs": [
        {
          "output_type": "execute_result",
          "data": {
            "text/plain": [
              "array([1.19985427e+00, 1.11899464e-01, 1.99554911e+00, 3.18792156e-01,\n",
              "       2.45836339e+00, 2.18073523e+00, 1.29748336e+00, 3.66918264e+02,\n",
              "       1.59742508e+00, 1.40433288e+00])"
            ]
          },
          "metadata": {},
          "execution_count": 29
        }
      ]
    },
    {
      "cell_type": "code",
      "source": [
        "dot"
      ],
      "metadata": {
        "colab": {
          "base_uri": "https://localhost:8080/"
        },
        "id": "gFZTEPpHKGWm",
        "outputId": "6b13b22e-d8aa-43af-90be-58dbe633ded3"
      },
      "execution_count": 30,
      "outputs": [
        {
          "output_type": "execute_result",
          "data": {
            "text/plain": [
              "np.float64(2.340574359395669)"
            ]
          },
          "metadata": {},
          "execution_count": 30
        }
      ]
    },
    {
      "cell_type": "code",
      "source": [
        "#SAPLEMM\n",
        "sqrt = np.sqrt(25)\n",
        "ab = np.abs(-3)\n",
        "power = np.power(2, 10)\n",
        "log = np.log(64)\n",
        "exp = np.exp([2, 3])\n",
        "mins = np.min(list1)\n",
        "maxs = np.max(list2)"
      ],
      "metadata": {
        "id": "ONHfMSReKG-o"
      },
      "execution_count": 32,
      "outputs": []
    },
    {
      "cell_type": "code",
      "source": [
        "sqrt"
      ],
      "metadata": {
        "colab": {
          "base_uri": "https://localhost:8080/"
        },
        "id": "0-Xkv5aYKM41",
        "outputId": "047640c0-ce92-4bb8-9fdf-5c38066df95d"
      },
      "execution_count": 33,
      "outputs": [
        {
          "output_type": "execute_result",
          "data": {
            "text/plain": [
              "np.float64(5.0)"
            ]
          },
          "metadata": {},
          "execution_count": 33
        }
      ]
    },
    {
      "cell_type": "code",
      "source": [
        "ab"
      ],
      "metadata": {
        "colab": {
          "base_uri": "https://localhost:8080/"
        },
        "id": "ZHDz6v-GKPjI",
        "outputId": "42ac9985-97bc-43df-a850-2681ee17c9f5"
      },
      "execution_count": 34,
      "outputs": [
        {
          "output_type": "execute_result",
          "data": {
            "text/plain": [
              "np.int64(3)"
            ]
          },
          "metadata": {},
          "execution_count": 34
        }
      ]
    },
    {
      "cell_type": "code",
      "source": [
        "power"
      ],
      "metadata": {
        "colab": {
          "base_uri": "https://localhost:8080/"
        },
        "id": "zqBDBoNhKQSf",
        "outputId": "21494f7d-5898-43fe-e1b6-aafd5694de50"
      },
      "execution_count": 35,
      "outputs": [
        {
          "output_type": "execute_result",
          "data": {
            "text/plain": [
              "np.int64(1024)"
            ]
          },
          "metadata": {},
          "execution_count": 35
        }
      ]
    },
    {
      "cell_type": "code",
      "source": [
        "log"
      ],
      "metadata": {
        "colab": {
          "base_uri": "https://localhost:8080/"
        },
        "id": "6n_YSanSKQ6b",
        "outputId": "22633a16-d011-4b12-9bd3-14f52d37c828"
      },
      "execution_count": 36,
      "outputs": [
        {
          "output_type": "execute_result",
          "data": {
            "text/plain": [
              "np.float64(4.1588830833596715)"
            ]
          },
          "metadata": {},
          "execution_count": 36
        }
      ]
    },
    {
      "cell_type": "code",
      "source": [
        "exp"
      ],
      "metadata": {
        "colab": {
          "base_uri": "https://localhost:8080/"
        },
        "id": "Dx37SBH4KRZY",
        "outputId": "f177f9be-1736-466c-ce64-2a5f038ddc4d"
      },
      "execution_count": 37,
      "outputs": [
        {
          "output_type": "execute_result",
          "data": {
            "text/plain": [
              "array([ 7.3890561 , 20.08553692])"
            ]
          },
          "metadata": {},
          "execution_count": 37
        }
      ]
    },
    {
      "cell_type": "code",
      "source": [
        "mins"
      ],
      "metadata": {
        "colab": {
          "base_uri": "https://localhost:8080/"
        },
        "id": "fAgDLqeuKR1t",
        "outputId": "67ad7c74-0f15-4cbb-87d4-2a1f1e43d636"
      },
      "execution_count": 38,
      "outputs": [
        {
          "output_type": "execute_result",
          "data": {
            "text/plain": [
              "np.float64(0.021836698159739654)"
            ]
          },
          "metadata": {},
          "execution_count": 38
        }
      ]
    },
    {
      "cell_type": "code",
      "source": [
        "maxs"
      ],
      "metadata": {
        "colab": {
          "base_uri": "https://localhost:8080/"
        },
        "id": "-BX4Tn6LKSV-",
        "outputId": "53d301b4-acc9-4c6b-8be3-3c975a0a9288"
      },
      "execution_count": 39,
      "outputs": [
        {
          "output_type": "execute_result",
          "data": {
            "text/plain": [
              "np.float64(0.9870113589878661)"
            ]
          },
          "metadata": {},
          "execution_count": 39
        }
      ]
    },
    {
      "cell_type": "code",
      "source": [
        "data"
      ],
      "metadata": {
        "colab": {
          "base_uri": "https://localhost:8080/"
        },
        "id": "AIOLsHL9KS5h",
        "outputId": "638b6250-48da-4888-daee-13fd1094b193"
      },
      "execution_count": 40,
      "outputs": [
        {
          "output_type": "execute_result",
          "data": {
            "text/plain": [
              "array([[[0.79234214, 0.56547962, 0.43442836, 0.16609289],\n",
              "        [0.24267138, 0.90601575, 0.69427242, 0.07424053],\n",
              "        [0.25298004, 0.18236096, 0.02215848, 0.09200437]],\n",
              "\n",
              "       [[0.44650235, 0.31028214, 0.90507011, 0.87780979],\n",
              "        [0.50398618, 0.7475146 , 0.55557738, 0.00242337],\n",
              "        [0.67571838, 0.87263699, 0.96626689, 0.98211075]]])"
            ]
          },
          "metadata": {},
          "execution_count": 40
        }
      ]
    },
    {
      "cell_type": "code",
      "source": [
        "data[0][0][0] = 500"
      ],
      "metadata": {
        "id": "W8Wez5iWKXBL"
      },
      "execution_count": 41,
      "outputs": []
    },
    {
      "cell_type": "code",
      "source": [
        "data"
      ],
      "metadata": {
        "colab": {
          "base_uri": "https://localhost:8080/"
        },
        "id": "gdTBmQ42KZo1",
        "outputId": "1b3b6646-b5ce-42bf-aea7-c3ae90fd2ac6"
      },
      "execution_count": 42,
      "outputs": [
        {
          "output_type": "execute_result",
          "data": {
            "text/plain": [
              "array([[[5.00000000e+02, 5.65479618e-01, 4.34428355e-01, 1.66092890e-01],\n",
              "        [2.42671377e-01, 9.06015754e-01, 6.94272420e-01, 7.42405285e-02],\n",
              "        [2.52980045e-01, 1.82360959e-01, 2.21584752e-02, 9.20043678e-02]],\n",
              "\n",
              "       [[4.46502354e-01, 3.10282135e-01, 9.05070108e-01, 8.77809792e-01],\n",
              "        [5.03986180e-01, 7.47514599e-01, 5.55577379e-01, 2.42337241e-03],\n",
              "        [6.75718384e-01, 8.72636995e-01, 9.66266886e-01, 9.82110752e-01]]])"
            ]
          },
          "metadata": {},
          "execution_count": 42
        }
      ]
    },
    {
      "cell_type": "code",
      "source": [
        "data.sort()\n",
        "data"
      ],
      "metadata": {
        "colab": {
          "base_uri": "https://localhost:8080/"
        },
        "id": "jT7lI8VLKaL8",
        "outputId": "26ac64df-7206-4746-ffb1-d3d8fcd704cf"
      },
      "execution_count": 43,
      "outputs": [
        {
          "output_type": "execute_result",
          "data": {
            "text/plain": [
              "array([[[1.66092890e-01, 4.34428355e-01, 5.65479618e-01, 5.00000000e+02],\n",
              "        [7.42405285e-02, 2.42671377e-01, 6.94272420e-01, 9.06015754e-01],\n",
              "        [2.21584752e-02, 9.20043678e-02, 1.82360959e-01, 2.52980045e-01]],\n",
              "\n",
              "       [[3.10282135e-01, 4.46502354e-01, 8.77809792e-01, 9.05070108e-01],\n",
              "        [2.42337241e-03, 5.03986180e-01, 5.55577379e-01, 7.47514599e-01],\n",
              "        [6.75718384e-01, 8.72636995e-01, 9.66266886e-01, 9.82110752e-01]]])"
            ]
          },
          "metadata": {},
          "execution_count": 43
        }
      ]
    },
    {
      "cell_type": "code",
      "source": [
        "print(data.shape)"
      ],
      "metadata": {
        "colab": {
          "base_uri": "https://localhost:8080/"
        },
        "id": "DyDe1DQwKdzh",
        "outputId": "338d7cd2-c8c9-4b4b-8d5f-5f269402fe32"
      },
      "execution_count": 44,
      "outputs": [
        {
          "output_type": "stream",
          "name": "stdout",
          "text": [
            "(2, 3, 4)\n"
          ]
        }
      ]
    },
    {
      "cell_type": "code",
      "source": [
        "data = data.reshape((2,2,-1))  #-1 means we dont care about the size of last dimension and it automatically calculates it.\n",
        "data.shape"
      ],
      "metadata": {
        "colab": {
          "base_uri": "https://localhost:8080/"
        },
        "id": "xOEl3B6kKhX3",
        "outputId": "a89025b5-0943-4a36-f9b7-4916289c5f4d"
      },
      "execution_count": 45,
      "outputs": [
        {
          "output_type": "execute_result",
          "data": {
            "text/plain": [
              "(2, 2, 6)"
            ]
          },
          "metadata": {},
          "execution_count": 45
        }
      ]
    },
    {
      "cell_type": "code",
      "source": [
        "zeroes = np.zeros((8))\n",
        "print(zeroes)\n",
        "zeroes = np.append(zeroes, [3,4])\n",
        "print(zeroes)"
      ],
      "metadata": {
        "colab": {
          "base_uri": "https://localhost:8080/"
        },
        "id": "x8mBq8eKKkeI",
        "outputId": "2bc247a4-9b6e-4809-a97f-d55e78a1aee5"
      },
      "execution_count": 46,
      "outputs": [
        {
          "output_type": "stream",
          "name": "stdout",
          "text": [
            "[0. 0. 0. 0. 0. 0. 0. 0.]\n",
            "[0. 0. 0. 0. 0. 0. 0. 0. 3. 4.]\n"
          ]
        }
      ]
    },
    {
      "cell_type": "code",
      "source": [
        "zeroes = np.insert(zeroes, 2, 1)\n",
        "print(zeroes)"
      ],
      "metadata": {
        "colab": {
          "base_uri": "https://localhost:8080/"
        },
        "id": "DmJFPAIaKt_V",
        "outputId": "ebd95184-8bd5-4684-cd00-57bbf3e12295"
      },
      "execution_count": 47,
      "outputs": [
        {
          "output_type": "stream",
          "name": "stdout",
          "text": [
            "[0. 0. 1. 0. 0. 0. 0. 0. 0. 3. 4.]\n"
          ]
        }
      ]
    },
    {
      "cell_type": "markdown",
      "source": [
        "# **Delete**"
      ],
      "metadata": {
        "id": "ZJB_u2eOK65x"
      }
    },
    {
      "cell_type": "code",
      "source": [
        "data"
      ],
      "metadata": {
        "colab": {
          "base_uri": "https://localhost:8080/"
        },
        "id": "h-pE6y0ZKyKS",
        "outputId": "6d9b909e-579e-4fed-e565-49057077c36c"
      },
      "execution_count": 48,
      "outputs": [
        {
          "output_type": "execute_result",
          "data": {
            "text/plain": [
              "array([[[1.66092890e-01, 4.34428355e-01, 5.65479618e-01, 5.00000000e+02,\n",
              "         7.42405285e-02, 2.42671377e-01],\n",
              "        [6.94272420e-01, 9.06015754e-01, 2.21584752e-02, 9.20043678e-02,\n",
              "         1.82360959e-01, 2.52980045e-01]],\n",
              "\n",
              "       [[3.10282135e-01, 4.46502354e-01, 8.77809792e-01, 9.05070108e-01,\n",
              "         2.42337241e-03, 5.03986180e-01],\n",
              "        [5.55577379e-01, 7.47514599e-01, 6.75718384e-01, 8.72636995e-01,\n",
              "         9.66266886e-01, 9.82110752e-01]]])"
            ]
          },
          "metadata": {},
          "execution_count": 48
        }
      ]
    },
    {
      "cell_type": "code",
      "source": [
        "np.delete(data, 0, axis=1)"
      ],
      "metadata": {
        "colab": {
          "base_uri": "https://localhost:8080/"
        },
        "id": "pfxzhP5iK19U",
        "outputId": "7c3dae41-4fee-49bf-8b54-873959accd87"
      },
      "execution_count": 49,
      "outputs": [
        {
          "output_type": "execute_result",
          "data": {
            "text/plain": [
              "array([[[0.69427242, 0.90601575, 0.02215848, 0.09200437, 0.18236096,\n",
              "         0.25298004]],\n",
              "\n",
              "       [[0.55557738, 0.7475146 , 0.67571838, 0.87263699, 0.96626689,\n",
              "         0.98211075]]])"
            ]
          },
          "metadata": {},
          "execution_count": 49
        }
      ]
    },
    {
      "cell_type": "code",
      "source": [
        "np.save(\"new array\", data)"
      ],
      "metadata": {
        "id": "CXQ8UFClLDjn"
      },
      "execution_count": 50,
      "outputs": []
    },
    {
      "cell_type": "code",
      "source": [
        "test = np.load(\"new array.npy\")\n",
        "test"
      ],
      "metadata": {
        "colab": {
          "base_uri": "https://localhost:8080/"
        },
        "id": "VvnyHNdjLKIi",
        "outputId": "29f7a415-5244-49af-f2ad-471999e9f3f6"
      },
      "execution_count": 51,
      "outputs": [
        {
          "output_type": "execute_result",
          "data": {
            "text/plain": [
              "array([[[1.66092890e-01, 4.34428355e-01, 5.65479618e-01, 5.00000000e+02,\n",
              "         7.42405285e-02, 2.42671377e-01],\n",
              "        [6.94272420e-01, 9.06015754e-01, 2.21584752e-02, 9.20043678e-02,\n",
              "         1.82360959e-01, 2.52980045e-01]],\n",
              "\n",
              "       [[3.10282135e-01, 4.46502354e-01, 8.77809792e-01, 9.05070108e-01,\n",
              "         2.42337241e-03, 5.03986180e-01],\n",
              "        [5.55577379e-01, 7.47514599e-01, 6.75718384e-01, 8.72636995e-01,\n",
              "         9.66266886e-01, 9.82110752e-01]]])"
            ]
          },
          "metadata": {},
          "execution_count": 51
        }
      ]
    },
    {
      "cell_type": "code",
      "source": [],
      "metadata": {
        "id": "OLs1QMqhLPp2"
      },
      "execution_count": null,
      "outputs": []
    }
  ]
}